{
 "cells": [
  {
   "cell_type": "code",
   "execution_count": 1,
   "id": "common-decade",
   "metadata": {},
   "outputs": [],
   "source": [
    "import matplotlib.pyplot as plt\n",
    "import numpy as np\n",
    "%matplotlib inline\n",
    "import pandas as pd"
   ]
  },
  {
   "cell_type": "markdown",
   "id": "bored-princess",
   "metadata": {},
   "source": [
    "# Fonte: \n",
    "https://www.gov.br/inep/pt-br/acesso-a-informacao/dados-abertos/microdados/censo-da-educacao-superior "
   ]
  },
  {
   "cell_type": "markdown",
   "id": "irish-credits",
   "metadata": {},
   "source": [
    "\n"
   ]
  },
  {
   "cell_type": "markdown",
   "id": "rising-puppy",
   "metadata": {},
   "source": [
    "#### Funções utilizadas:"
   ]
  },
  {
   "cell_type": "code",
   "execution_count": 2,
   "id": "alternate-asbestos",
   "metadata": {},
   "outputs": [],
   "source": [
    "def create_piechart(n_homens,n_mulheres,titulo):\n",
    "    cars = ['Homens', 'Mulheres'] \n",
    "    data = [n_homens,n_mulheres] \n",
    "    colors = ( \"orange\", \"blue\") \n",
    "    wp = { 'linewidth' : 0.6, 'edgecolor' : \"black\" } \n",
    "    \n",
    "    def func(pct, allvalues): \n",
    "        absolute = int(pct / 100.*np.sum(allvalues)) \n",
    "        return \"{:.1f}%\\n({:d} )\".format(pct, absolute) \n",
    "    \n",
    "    fig, ax = plt.subplots(figsize =(8, 8)) \n",
    "    wedges, texts, autotexts = ax.pie(data,  \n",
    "                                  autopct = lambda pct: func(pct, data), \n",
    "                                  labels = cars, \n",
    "                                  shadow = True, \n",
    "                                  colors = colors, \n",
    "                                  startangle = 90, \n",
    "                                  wedgeprops = wp) \n",
    "    ax.legend(wedges, cars, \n",
    "          title =\"\", \n",
    "          loc =\"center left\", \n",
    "          bbox_to_anchor =(1, 0, 0.5, 1)) \n",
    "    \n",
    "    plt.setp(autotexts, size = 16, weight =\"bold\") \n",
    "    ax.set_title(titulo) \n",
    "    plt.show() "
   ]
  },
  {
   "cell_type": "code",
   "execution_count": 3,
   "id": "outdoor-registration",
   "metadata": {},
   "outputs": [],
   "source": [
    "def replace_and_separate_dfs(dframe):\n",
    "    \n",
    "    dframe['TP_SEXO'] = dframe['TP_SEXO'].replace([2],'Homens')\n",
    "    dframe['TP_SEXO'] = dframe['TP_SEXO'].replace([1],'Mulheres')\n",
    "    \n",
    " \n",
    "    df_mulheres = dframe[dframe['TP_SEXO'] == 'Mulheres']\n",
    "    df_homens = dframe[dframe['TP_SEXO'] == 'Homens']\n",
    "\n",
    "    n_mulheres = len(df_mulheres)\n",
    "    n_homens = len(df_homens)\n",
    "    \n",
    "    return n_homens,n_mulheres"
   ]
  },
  {
   "cell_type": "markdown",
   "id": "lonely-armor",
   "metadata": {},
   "source": [
    "### Tabela com informações dos cursos: SUP_CURSO_2019.CSV"
   ]
  },
  {
   "cell_type": "code",
   "execution_count": 4,
   "id": "desperate-connectivity",
   "metadata": {},
   "outputs": [],
   "source": [
    "df_bycourse = pd.read_csv('SUP_CURSO_2019.CSV',sep = \"|\",usecols= ['CO_CURSO','NO_CURSO'])"
   ]
  },
  {
   "cell_type": "code",
   "execution_count": 5,
   "id": "united-coordination",
   "metadata": {},
   "outputs": [
    {
     "data": {
      "text/html": [
       "<div>\n",
       "<style scoped>\n",
       "    .dataframe tbody tr th:only-of-type {\n",
       "        vertical-align: middle;\n",
       "    }\n",
       "\n",
       "    .dataframe tbody tr th {\n",
       "        vertical-align: top;\n",
       "    }\n",
       "\n",
       "    .dataframe thead th {\n",
       "        text-align: right;\n",
       "    }\n",
       "</style>\n",
       "<table border=\"1\" class=\"dataframe\">\n",
       "  <thead>\n",
       "    <tr style=\"text-align: right;\">\n",
       "      <th></th>\n",
       "      <th>CO_CURSO</th>\n",
       "      <th>NO_CURSO</th>\n",
       "    </tr>\n",
       "  </thead>\n",
       "  <tbody>\n",
       "    <tr>\n",
       "      <th>0</th>\n",
       "      <td>1</td>\n",
       "      <td>DIREITO</td>\n",
       "    </tr>\n",
       "    <tr>\n",
       "      <th>1</th>\n",
       "      <td>2</td>\n",
       "      <td>CI�NCIAS ECON�MICAS</td>\n",
       "    </tr>\n",
       "    <tr>\n",
       "      <th>2</th>\n",
       "      <td>3</td>\n",
       "      <td>ENGENHARIA CIVIL</td>\n",
       "    </tr>\n",
       "  </tbody>\n",
       "</table>\n",
       "</div>"
      ],
      "text/plain": [
       "   CO_CURSO             NO_CURSO\n",
       "0         1              DIREITO\n",
       "1         2  CI�NCIAS ECON�MICAS\n",
       "2         3     ENGENHARIA CIVIL"
      ]
     },
     "execution_count": 5,
     "metadata": {},
     "output_type": "execute_result"
    }
   ],
   "source": [
    "df_bycourse.head(3)"
   ]
  },
  {
   "cell_type": "markdown",
   "id": "greek-college",
   "metadata": {},
   "source": [
    "# Tabela com informações dos alunos"
   ]
  },
  {
   "cell_type": "markdown",
   "id": "orange-globe",
   "metadata": {},
   "source": [
    "### Colunas utilizadas: TP_SEXO (Homem/Mulher) , CO_CURSO (Codigo do curso) , NU_ANO_INGRESSO (Ano de ingresso), IN_INGRESSO_TOTAL (Se o aluno é ingressante ou não)\n",
    "\n",
    "* IN_INGRESSO_TOTAL : Informa se o aluno é ingressante no curso, não importando a forma de ingresso utilizada. \n",
    " * (0. Situação diferente de ingresso total 1. Situação de ingresso total) \n",
    "* NU_ANO_INGRESSO : Ano de ingresso do aluno no curso \n"
   ]
  },
  {
   "cell_type": "code",
   "execution_count": 6,
   "id": "renewable-password",
   "metadata": {},
   "outputs": [],
   "source": [
    "df_alunos = pd.read_csv('SUP_ALUNO_2019.CSV',sep = \"|\", usecols= ['TP_SEXO','CO_CURSO','NU_ANO_INGRESSO','IN_INGRESSO_TOTAL'])"
   ]
  },
  {
   "cell_type": "code",
   "execution_count": 7,
   "id": "final-cycle",
   "metadata": {},
   "outputs": [
    {
     "data": {
      "text/html": [
       "<div>\n",
       "<style scoped>\n",
       "    .dataframe tbody tr th:only-of-type {\n",
       "        vertical-align: middle;\n",
       "    }\n",
       "\n",
       "    .dataframe tbody tr th {\n",
       "        vertical-align: top;\n",
       "    }\n",
       "\n",
       "    .dataframe thead th {\n",
       "        text-align: right;\n",
       "    }\n",
       "</style>\n",
       "<table border=\"1\" class=\"dataframe\">\n",
       "  <thead>\n",
       "    <tr style=\"text-align: right;\">\n",
       "      <th></th>\n",
       "      <th>CO_CURSO</th>\n",
       "      <th>TP_SEXO</th>\n",
       "      <th>IN_INGRESSO_TOTAL</th>\n",
       "      <th>NU_ANO_INGRESSO</th>\n",
       "    </tr>\n",
       "  </thead>\n",
       "  <tbody>\n",
       "    <tr>\n",
       "      <th>0</th>\n",
       "      <td>1</td>\n",
       "      <td>1</td>\n",
       "      <td>0</td>\n",
       "      <td>2017</td>\n",
       "    </tr>\n",
       "    <tr>\n",
       "      <th>1</th>\n",
       "      <td>1</td>\n",
       "      <td>2</td>\n",
       "      <td>0</td>\n",
       "      <td>2016</td>\n",
       "    </tr>\n",
       "    <tr>\n",
       "      <th>2</th>\n",
       "      <td>1</td>\n",
       "      <td>2</td>\n",
       "      <td>0</td>\n",
       "      <td>2012</td>\n",
       "    </tr>\n",
       "    <tr>\n",
       "      <th>3</th>\n",
       "      <td>1</td>\n",
       "      <td>1</td>\n",
       "      <td>0</td>\n",
       "      <td>2015</td>\n",
       "    </tr>\n",
       "  </tbody>\n",
       "</table>\n",
       "</div>"
      ],
      "text/plain": [
       "   CO_CURSO  TP_SEXO  IN_INGRESSO_TOTAL  NU_ANO_INGRESSO\n",
       "0         1        1                  0             2017\n",
       "1         1        2                  0             2016\n",
       "2         1        2                  0             2012\n",
       "3         1        1                  0             2015"
      ]
     },
     "execution_count": 7,
     "metadata": {},
     "output_type": "execute_result"
    }
   ],
   "source": [
    "df_alunos.head(4)"
   ]
  },
  {
   "cell_type": "markdown",
   "id": "mighty-faith",
   "metadata": {},
   "source": [
    "### Realizando merge entre as tabelas dos alunos e dos cursos para realizar a correspondência codigo do curso - nome do curso (a tabela dos alunos não continha os nomes dos cursos, tinha somente os codigos)"
   ]
  },
  {
   "cell_type": "code",
   "execution_count": 8,
   "id": "following-effectiveness",
   "metadata": {},
   "outputs": [],
   "source": [
    "result = pd.merge(df_alunos,df_bycourse,on='CO_CURSO')"
   ]
  },
  {
   "cell_type": "code",
   "execution_count": 9,
   "id": "virtual-universal",
   "metadata": {},
   "outputs": [
    {
     "data": {
      "text/html": [
       "<div>\n",
       "<style scoped>\n",
       "    .dataframe tbody tr th:only-of-type {\n",
       "        vertical-align: middle;\n",
       "    }\n",
       "\n",
       "    .dataframe tbody tr th {\n",
       "        vertical-align: top;\n",
       "    }\n",
       "\n",
       "    .dataframe thead th {\n",
       "        text-align: right;\n",
       "    }\n",
       "</style>\n",
       "<table border=\"1\" class=\"dataframe\">\n",
       "  <thead>\n",
       "    <tr style=\"text-align: right;\">\n",
       "      <th></th>\n",
       "      <th>CO_CURSO</th>\n",
       "      <th>TP_SEXO</th>\n",
       "      <th>IN_INGRESSO_TOTAL</th>\n",
       "      <th>NU_ANO_INGRESSO</th>\n",
       "      <th>NO_CURSO</th>\n",
       "    </tr>\n",
       "  </thead>\n",
       "  <tbody>\n",
       "    <tr>\n",
       "      <th>0</th>\n",
       "      <td>1</td>\n",
       "      <td>1</td>\n",
       "      <td>0</td>\n",
       "      <td>2017</td>\n",
       "      <td>DIREITO</td>\n",
       "    </tr>\n",
       "    <tr>\n",
       "      <th>1</th>\n",
       "      <td>1</td>\n",
       "      <td>2</td>\n",
       "      <td>0</td>\n",
       "      <td>2016</td>\n",
       "      <td>DIREITO</td>\n",
       "    </tr>\n",
       "    <tr>\n",
       "      <th>2</th>\n",
       "      <td>1</td>\n",
       "      <td>2</td>\n",
       "      <td>0</td>\n",
       "      <td>2012</td>\n",
       "      <td>DIREITO</td>\n",
       "    </tr>\n",
       "    <tr>\n",
       "      <th>3</th>\n",
       "      <td>1</td>\n",
       "      <td>1</td>\n",
       "      <td>0</td>\n",
       "      <td>2015</td>\n",
       "      <td>DIREITO</td>\n",
       "    </tr>\n",
       "    <tr>\n",
       "      <th>4</th>\n",
       "      <td>1</td>\n",
       "      <td>2</td>\n",
       "      <td>0</td>\n",
       "      <td>2013</td>\n",
       "      <td>DIREITO</td>\n",
       "    </tr>\n",
       "  </tbody>\n",
       "</table>\n",
       "</div>"
      ],
      "text/plain": [
       "   CO_CURSO  TP_SEXO  IN_INGRESSO_TOTAL  NU_ANO_INGRESSO NO_CURSO\n",
       "0         1        1                  0             2017  DIREITO\n",
       "1         1        2                  0             2016  DIREITO\n",
       "2         1        2                  0             2012  DIREITO\n",
       "3         1        1                  0             2015  DIREITO\n",
       "4         1        2                  0             2013  DIREITO"
      ]
     },
     "execution_count": 9,
     "metadata": {},
     "output_type": "execute_result"
    }
   ],
   "source": [
    "result.head(5)"
   ]
  },
  {
   "cell_type": "code",
   "execution_count": 10,
   "id": "unnecessary-makeup",
   "metadata": {},
   "outputs": [],
   "source": [
    "result = result.drop(['CO_CURSO'], axis=1)"
   ]
  },
  {
   "cell_type": "code",
   "execution_count": 11,
   "id": "continuing-coast",
   "metadata": {},
   "outputs": [
    {
     "data": {
      "text/html": [
       "<div>\n",
       "<style scoped>\n",
       "    .dataframe tbody tr th:only-of-type {\n",
       "        vertical-align: middle;\n",
       "    }\n",
       "\n",
       "    .dataframe tbody tr th {\n",
       "        vertical-align: top;\n",
       "    }\n",
       "\n",
       "    .dataframe thead th {\n",
       "        text-align: right;\n",
       "    }\n",
       "</style>\n",
       "<table border=\"1\" class=\"dataframe\">\n",
       "  <thead>\n",
       "    <tr style=\"text-align: right;\">\n",
       "      <th></th>\n",
       "      <th>TP_SEXO</th>\n",
       "      <th>IN_INGRESSO_TOTAL</th>\n",
       "      <th>NU_ANO_INGRESSO</th>\n",
       "      <th>NO_CURSO</th>\n",
       "    </tr>\n",
       "  </thead>\n",
       "  <tbody>\n",
       "    <tr>\n",
       "      <th>0</th>\n",
       "      <td>1</td>\n",
       "      <td>0</td>\n",
       "      <td>2017</td>\n",
       "      <td>DIREITO</td>\n",
       "    </tr>\n",
       "    <tr>\n",
       "      <th>1</th>\n",
       "      <td>2</td>\n",
       "      <td>0</td>\n",
       "      <td>2016</td>\n",
       "      <td>DIREITO</td>\n",
       "    </tr>\n",
       "    <tr>\n",
       "      <th>2</th>\n",
       "      <td>2</td>\n",
       "      <td>0</td>\n",
       "      <td>2012</td>\n",
       "      <td>DIREITO</td>\n",
       "    </tr>\n",
       "    <tr>\n",
       "      <th>3</th>\n",
       "      <td>1</td>\n",
       "      <td>0</td>\n",
       "      <td>2015</td>\n",
       "      <td>DIREITO</td>\n",
       "    </tr>\n",
       "    <tr>\n",
       "      <th>4</th>\n",
       "      <td>2</td>\n",
       "      <td>0</td>\n",
       "      <td>2013</td>\n",
       "      <td>DIREITO</td>\n",
       "    </tr>\n",
       "  </tbody>\n",
       "</table>\n",
       "</div>"
      ],
      "text/plain": [
       "   TP_SEXO  IN_INGRESSO_TOTAL  NU_ANO_INGRESSO NO_CURSO\n",
       "0        1                  0             2017  DIREITO\n",
       "1        2                  0             2016  DIREITO\n",
       "2        2                  0             2012  DIREITO\n",
       "3        1                  0             2015  DIREITO\n",
       "4        2                  0             2013  DIREITO"
      ]
     },
     "execution_count": 11,
     "metadata": {},
     "output_type": "execute_result"
    }
   ],
   "source": [
    "result.head()"
   ]
  },
  {
   "cell_type": "markdown",
   "id": "intermediate-commander",
   "metadata": {},
   "source": [
    "## Selecionando alunos ingressantes (ingresso total) em 2019"
   ]
  },
  {
   "cell_type": "code",
   "execution_count": 12,
   "id": "moral-bouquet",
   "metadata": {},
   "outputs": [],
   "source": [
    "result = result[(result['NU_ANO_INGRESSO'] == 2019) & (result['IN_INGRESSO_TOTAL'] == 1)]"
   ]
  },
  {
   "cell_type": "code",
   "execution_count": 13,
   "id": "secure-ethernet",
   "metadata": {},
   "outputs": [
    {
     "data": {
      "text/html": [
       "<div>\n",
       "<style scoped>\n",
       "    .dataframe tbody tr th:only-of-type {\n",
       "        vertical-align: middle;\n",
       "    }\n",
       "\n",
       "    .dataframe tbody tr th {\n",
       "        vertical-align: top;\n",
       "    }\n",
       "\n",
       "    .dataframe thead th {\n",
       "        text-align: right;\n",
       "    }\n",
       "</style>\n",
       "<table border=\"1\" class=\"dataframe\">\n",
       "  <thead>\n",
       "    <tr style=\"text-align: right;\">\n",
       "      <th></th>\n",
       "      <th>TP_SEXO</th>\n",
       "      <th>IN_INGRESSO_TOTAL</th>\n",
       "      <th>NU_ANO_INGRESSO</th>\n",
       "      <th>NO_CURSO</th>\n",
       "    </tr>\n",
       "  </thead>\n",
       "  <tbody>\n",
       "    <tr>\n",
       "      <th>12350827</th>\n",
       "      <td>2</td>\n",
       "      <td>1</td>\n",
       "      <td>2019</td>\n",
       "      <td>AN�LISE DE PROCESSOS AGROINDUSTRIAIS</td>\n",
       "    </tr>\n",
       "    <tr>\n",
       "      <th>12350828</th>\n",
       "      <td>2</td>\n",
       "      <td>1</td>\n",
       "      <td>2019</td>\n",
       "      <td>AN�LISE DE PROCESSOS AGROINDUSTRIAIS</td>\n",
       "    </tr>\n",
       "    <tr>\n",
       "      <th>12350829</th>\n",
       "      <td>2</td>\n",
       "      <td>1</td>\n",
       "      <td>2019</td>\n",
       "      <td>AN�LISE DE PROCESSOS AGROINDUSTRIAIS</td>\n",
       "    </tr>\n",
       "    <tr>\n",
       "      <th>12350830</th>\n",
       "      <td>1</td>\n",
       "      <td>1</td>\n",
       "      <td>2019</td>\n",
       "      <td>AN�LISE DE PROCESSOS AGROINDUSTRIAIS</td>\n",
       "    </tr>\n",
       "    <tr>\n",
       "      <th>12350831</th>\n",
       "      <td>2</td>\n",
       "      <td>1</td>\n",
       "      <td>2019</td>\n",
       "      <td>AN�LISE DE PROCESSOS AGROINDUSTRIAIS</td>\n",
       "    </tr>\n",
       "  </tbody>\n",
       "</table>\n",
       "</div>"
      ],
      "text/plain": [
       "          TP_SEXO  IN_INGRESSO_TOTAL  NU_ANO_INGRESSO  \\\n",
       "12350827        2                  1             2019   \n",
       "12350828        2                  1             2019   \n",
       "12350829        2                  1             2019   \n",
       "12350830        1                  1             2019   \n",
       "12350831        2                  1             2019   \n",
       "\n",
       "                                      NO_CURSO  \n",
       "12350827  AN�LISE DE PROCESSOS AGROINDUSTRIAIS  \n",
       "12350828  AN�LISE DE PROCESSOS AGROINDUSTRIAIS  \n",
       "12350829  AN�LISE DE PROCESSOS AGROINDUSTRIAIS  \n",
       "12350830  AN�LISE DE PROCESSOS AGROINDUSTRIAIS  \n",
       "12350831  AN�LISE DE PROCESSOS AGROINDUSTRIAIS  "
      ]
     },
     "execution_count": 13,
     "metadata": {},
     "output_type": "execute_result"
    }
   ],
   "source": [
    "result.tail()"
   ]
  },
  {
   "cell_type": "markdown",
   "id": "exterior-ethiopia",
   "metadata": {},
   "source": [
    "# Cursos relacionados a computação\n",
    "--- Majoritariamente: engenharia e ciências da computação"
   ]
  },
  {
   "cell_type": "code",
   "execution_count": 14,
   "id": "reported-novelty",
   "metadata": {},
   "outputs": [],
   "source": [
    "computacao_df = result[result.NO_CURSO.str.contains('COMPUTA��O',case=False)]"
   ]
  },
  {
   "cell_type": "code",
   "execution_count": 15,
   "id": "checked-service",
   "metadata": {},
   "outputs": [
    {
     "data": {
      "text/html": [
       "<div>\n",
       "<style scoped>\n",
       "    .dataframe tbody tr th:only-of-type {\n",
       "        vertical-align: middle;\n",
       "    }\n",
       "\n",
       "    .dataframe tbody tr th {\n",
       "        vertical-align: top;\n",
       "    }\n",
       "\n",
       "    .dataframe thead th {\n",
       "        text-align: right;\n",
       "    }\n",
       "</style>\n",
       "<table border=\"1\" class=\"dataframe\">\n",
       "  <thead>\n",
       "    <tr style=\"text-align: right;\">\n",
       "      <th></th>\n",
       "      <th>TP_SEXO</th>\n",
       "      <th>IN_INGRESSO_TOTAL</th>\n",
       "      <th>NU_ANO_INGRESSO</th>\n",
       "      <th>NO_CURSO</th>\n",
       "    </tr>\n",
       "  </thead>\n",
       "  <tbody>\n",
       "    <tr>\n",
       "      <th>9045</th>\n",
       "      <td>2</td>\n",
       "      <td>1</td>\n",
       "      <td>2019</td>\n",
       "      <td>CI�NCIA DA COMPUTA��O</td>\n",
       "    </tr>\n",
       "    <tr>\n",
       "      <th>9066</th>\n",
       "      <td>1</td>\n",
       "      <td>1</td>\n",
       "      <td>2019</td>\n",
       "      <td>CI�NCIA DA COMPUTA��O</td>\n",
       "    </tr>\n",
       "    <tr>\n",
       "      <th>9069</th>\n",
       "      <td>2</td>\n",
       "      <td>1</td>\n",
       "      <td>2019</td>\n",
       "      <td>CI�NCIA DA COMPUTA��O</td>\n",
       "    </tr>\n",
       "    <tr>\n",
       "      <th>9091</th>\n",
       "      <td>2</td>\n",
       "      <td>1</td>\n",
       "      <td>2019</td>\n",
       "      <td>CI�NCIA DA COMPUTA��O</td>\n",
       "    </tr>\n",
       "    <tr>\n",
       "      <th>9099</th>\n",
       "      <td>2</td>\n",
       "      <td>1</td>\n",
       "      <td>2019</td>\n",
       "      <td>CI�NCIA DA COMPUTA��O</td>\n",
       "    </tr>\n",
       "  </tbody>\n",
       "</table>\n",
       "</div>"
      ],
      "text/plain": [
       "      TP_SEXO  IN_INGRESSO_TOTAL  NU_ANO_INGRESSO               NO_CURSO\n",
       "9045        2                  1             2019  CI�NCIA DA COMPUTA��O\n",
       "9066        1                  1             2019  CI�NCIA DA COMPUTA��O\n",
       "9069        2                  1             2019  CI�NCIA DA COMPUTA��O\n",
       "9091        2                  1             2019  CI�NCIA DA COMPUTA��O\n",
       "9099        2                  1             2019  CI�NCIA DA COMPUTA��O"
      ]
     },
     "execution_count": 15,
     "metadata": {},
     "output_type": "execute_result"
    }
   ],
   "source": [
    "computacao_df.head()"
   ]
  },
  {
   "cell_type": "markdown",
   "id": "rapid-healing",
   "metadata": {},
   "source": [
    "### Substituindo numeros por mulheres/homens"
   ]
  },
  {
   "cell_type": "code",
   "execution_count": 16,
   "id": "simplified-repository",
   "metadata": {},
   "outputs": [
    {
     "name": "stderr",
     "output_type": "stream",
     "text": [
      "C:\\Users\\livia\\Anaconda3\\lib\\site-packages\\ipykernel_launcher.py:3: SettingWithCopyWarning: \n",
      "A value is trying to be set on a copy of a slice from a DataFrame.\n",
      "Try using .loc[row_indexer,col_indexer] = value instead\n",
      "\n",
      "See the caveats in the documentation: https://pandas.pydata.org/pandas-docs/stable/user_guide/indexing.html#returning-a-view-versus-a-copy\n",
      "  This is separate from the ipykernel package so we can avoid doing imports until\n",
      "C:\\Users\\livia\\Anaconda3\\lib\\site-packages\\ipykernel_launcher.py:4: SettingWithCopyWarning: \n",
      "A value is trying to be set on a copy of a slice from a DataFrame.\n",
      "Try using .loc[row_indexer,col_indexer] = value instead\n",
      "\n",
      "See the caveats in the documentation: https://pandas.pydata.org/pandas-docs/stable/user_guide/indexing.html#returning-a-view-versus-a-copy\n",
      "  after removing the cwd from sys.path.\n"
     ]
    }
   ],
   "source": [
    "n_homens_comp,n_mulheres_comp = replace_and_separate_dfs(computacao_df)"
   ]
  },
  {
   "cell_type": "code",
   "execution_count": 17,
   "id": "structured-lover",
   "metadata": {},
   "outputs": [
    {
     "data": {
      "text/html": [
       "<div>\n",
       "<style scoped>\n",
       "    .dataframe tbody tr th:only-of-type {\n",
       "        vertical-align: middle;\n",
       "    }\n",
       "\n",
       "    .dataframe tbody tr th {\n",
       "        vertical-align: top;\n",
       "    }\n",
       "\n",
       "    .dataframe thead th {\n",
       "        text-align: right;\n",
       "    }\n",
       "</style>\n",
       "<table border=\"1\" class=\"dataframe\">\n",
       "  <thead>\n",
       "    <tr style=\"text-align: right;\">\n",
       "      <th></th>\n",
       "      <th>TP_SEXO</th>\n",
       "      <th>IN_INGRESSO_TOTAL</th>\n",
       "      <th>NU_ANO_INGRESSO</th>\n",
       "      <th>NO_CURSO</th>\n",
       "    </tr>\n",
       "  </thead>\n",
       "  <tbody>\n",
       "    <tr>\n",
       "      <th>9045</th>\n",
       "      <td>Homens</td>\n",
       "      <td>1</td>\n",
       "      <td>2019</td>\n",
       "      <td>CI�NCIA DA COMPUTA��O</td>\n",
       "    </tr>\n",
       "    <tr>\n",
       "      <th>9066</th>\n",
       "      <td>Mulheres</td>\n",
       "      <td>1</td>\n",
       "      <td>2019</td>\n",
       "      <td>CI�NCIA DA COMPUTA��O</td>\n",
       "    </tr>\n",
       "    <tr>\n",
       "      <th>9069</th>\n",
       "      <td>Homens</td>\n",
       "      <td>1</td>\n",
       "      <td>2019</td>\n",
       "      <td>CI�NCIA DA COMPUTA��O</td>\n",
       "    </tr>\n",
       "    <tr>\n",
       "      <th>9091</th>\n",
       "      <td>Homens</td>\n",
       "      <td>1</td>\n",
       "      <td>2019</td>\n",
       "      <td>CI�NCIA DA COMPUTA��O</td>\n",
       "    </tr>\n",
       "    <tr>\n",
       "      <th>9099</th>\n",
       "      <td>Homens</td>\n",
       "      <td>1</td>\n",
       "      <td>2019</td>\n",
       "      <td>CI�NCIA DA COMPUTA��O</td>\n",
       "    </tr>\n",
       "  </tbody>\n",
       "</table>\n",
       "</div>"
      ],
      "text/plain": [
       "       TP_SEXO  IN_INGRESSO_TOTAL  NU_ANO_INGRESSO               NO_CURSO\n",
       "9045    Homens                  1             2019  CI�NCIA DA COMPUTA��O\n",
       "9066  Mulheres                  1             2019  CI�NCIA DA COMPUTA��O\n",
       "9069    Homens                  1             2019  CI�NCIA DA COMPUTA��O\n",
       "9091    Homens                  1             2019  CI�NCIA DA COMPUTA��O\n",
       "9099    Homens                  1             2019  CI�NCIA DA COMPUTA��O"
      ]
     },
     "execution_count": 17,
     "metadata": {},
     "output_type": "execute_result"
    }
   ],
   "source": [
    "computacao_df.head()"
   ]
  },
  {
   "cell_type": "code",
   "execution_count": null,
   "id": "recorded-attention",
   "metadata": {},
   "outputs": [],
   "source": []
  },
  {
   "cell_type": "code",
   "execution_count": 18,
   "id": "allied-momentum",
   "metadata": {},
   "outputs": [
    {
     "data": {
      "text/html": [
       "<div>\n",
       "<style scoped>\n",
       "    .dataframe tbody tr th:only-of-type {\n",
       "        vertical-align: middle;\n",
       "    }\n",
       "\n",
       "    .dataframe tbody tr th {\n",
       "        vertical-align: top;\n",
       "    }\n",
       "\n",
       "    .dataframe thead th {\n",
       "        text-align: right;\n",
       "    }\n",
       "</style>\n",
       "<table border=\"1\" class=\"dataframe\">\n",
       "  <thead>\n",
       "    <tr style=\"text-align: right;\">\n",
       "      <th></th>\n",
       "      <th>TP_SEXO</th>\n",
       "      <th>IN_INGRESSO_TOTAL</th>\n",
       "      <th>NU_ANO_INGRESSO</th>\n",
       "      <th>NO_CURSO</th>\n",
       "    </tr>\n",
       "  </thead>\n",
       "  <tbody>\n",
       "    <tr>\n",
       "      <th>12310884</th>\n",
       "      <td>Homens</td>\n",
       "      <td>1</td>\n",
       "      <td>2019</td>\n",
       "      <td>ENGENHARIA DE COMPUTA��O</td>\n",
       "    </tr>\n",
       "    <tr>\n",
       "      <th>12310885</th>\n",
       "      <td>Homens</td>\n",
       "      <td>1</td>\n",
       "      <td>2019</td>\n",
       "      <td>ENGENHARIA DE COMPUTA��O</td>\n",
       "    </tr>\n",
       "    <tr>\n",
       "      <th>12310886</th>\n",
       "      <td>Homens</td>\n",
       "      <td>1</td>\n",
       "      <td>2019</td>\n",
       "      <td>ENGENHARIA DE COMPUTA��O</td>\n",
       "    </tr>\n",
       "    <tr>\n",
       "      <th>12316493</th>\n",
       "      <td>Homens</td>\n",
       "      <td>1</td>\n",
       "      <td>2019</td>\n",
       "      <td>ENGENHARIA DE COMPUTA��O</td>\n",
       "    </tr>\n",
       "    <tr>\n",
       "      <th>12316494</th>\n",
       "      <td>Homens</td>\n",
       "      <td>1</td>\n",
       "      <td>2019</td>\n",
       "      <td>ENGENHARIA DE COMPUTA��O</td>\n",
       "    </tr>\n",
       "  </tbody>\n",
       "</table>\n",
       "</div>"
      ],
      "text/plain": [
       "         TP_SEXO  IN_INGRESSO_TOTAL  NU_ANO_INGRESSO                  NO_CURSO\n",
       "12310884  Homens                  1             2019  ENGENHARIA DE COMPUTA��O\n",
       "12310885  Homens                  1             2019  ENGENHARIA DE COMPUTA��O\n",
       "12310886  Homens                  1             2019  ENGENHARIA DE COMPUTA��O\n",
       "12316493  Homens                  1             2019  ENGENHARIA DE COMPUTA��O\n",
       "12316494  Homens                  1             2019  ENGENHARIA DE COMPUTA��O"
      ]
     },
     "execution_count": 18,
     "metadata": {},
     "output_type": "execute_result"
    }
   ],
   "source": [
    "computacao_df.tail()"
   ]
  },
  {
   "cell_type": "markdown",
   "id": "greek-intelligence",
   "metadata": {},
   "source": [
    "# Comparação numero mulheres/homens nos cursos relacionados a computação (engenharia e ciência da computação, majoriatariamente)"
   ]
  },
  {
   "cell_type": "markdown",
   "id": "amended-undergraduate",
   "metadata": {},
   "source": [
    "#### Separando o dataframe em dois: homens e mulheres"
   ]
  },
  {
   "cell_type": "code",
   "execution_count": 19,
   "id": "thorough-registrar",
   "metadata": {},
   "outputs": [
    {
     "data": {
      "image/png": "[encoded data removed]",
      "text/plain": [
       "<Figure size 576x576 with 1 Axes>"
      ]
     },
     "metadata": {},
     "output_type": "display_data"
    }
   ],
   "source": [
    "create_piechart(n_homens_comp,n_mulheres_comp,\"Engenharia e Ciência da Computação\")"
   ]
  },
  {
   "cell_type": "markdown",
   "id": "shared-listening",
   "metadata": {},
   "source": [
    "# Analisando cursos de ciências exatas: "
   ]
  },
  {
   "cell_type": "markdown",
   "id": "leading-barrel",
   "metadata": {},
   "source": [
    "### Definindo cursos de EXATAS"
   ]
  },
  {
   "cell_type": "code",
   "execution_count": 20,
   "id": "seasonal-palmer",
   "metadata": {},
   "outputs": [],
   "source": [
    "lista_exatas = ['ASTRONOMIA','ESTAT�STICA','CI�NCIA DA COMPUTA��O','ENGENHARIA DA COMPUTA��O','F�SICA','NANOTECNOLOGIA','QU�MICA','MATEM�TICA','SISTEMAS DE INFORMA��O','COMPUTA��O','INFORM�TICA','GEOLOGIA','ENGENHARIA DE COMPUTA��O']"
   ]
  },
  {
   "cell_type": "code",
   "execution_count": 21,
   "id": "attractive-ferry",
   "metadata": {},
   "outputs": [],
   "source": [
    "# Condições: curso esta contido na lista_exatas, ou contém o nome EXATAS \n",
    "exatas_df = result[result['NO_CURSO'].isin(lista_exatas) | result.NO_CURSO.str.contains('EXATAS',case=False)]"
   ]
  },
  {
   "cell_type": "code",
   "execution_count": 22,
   "id": "surface-lender",
   "metadata": {},
   "outputs": [
    {
     "data": {
      "text/html": [
       "<div>\n",
       "<style scoped>\n",
       "    .dataframe tbody tr th:only-of-type {\n",
       "        vertical-align: middle;\n",
       "    }\n",
       "\n",
       "    .dataframe tbody tr th {\n",
       "        vertical-align: top;\n",
       "    }\n",
       "\n",
       "    .dataframe thead th {\n",
       "        text-align: right;\n",
       "    }\n",
       "</style>\n",
       "<table border=\"1\" class=\"dataframe\">\n",
       "  <thead>\n",
       "    <tr style=\"text-align: right;\">\n",
       "      <th></th>\n",
       "      <th>TP_SEXO</th>\n",
       "      <th>IN_INGRESSO_TOTAL</th>\n",
       "      <th>NU_ANO_INGRESSO</th>\n",
       "      <th>NO_CURSO</th>\n",
       "    </tr>\n",
       "  </thead>\n",
       "  <tbody>\n",
       "    <tr>\n",
       "      <th>4906</th>\n",
       "      <td>2</td>\n",
       "      <td>1</td>\n",
       "      <td>2019</td>\n",
       "      <td>GEOLOGIA</td>\n",
       "    </tr>\n",
       "    <tr>\n",
       "      <th>4920</th>\n",
       "      <td>1</td>\n",
       "      <td>1</td>\n",
       "      <td>2019</td>\n",
       "      <td>GEOLOGIA</td>\n",
       "    </tr>\n",
       "    <tr>\n",
       "      <th>4922</th>\n",
       "      <td>2</td>\n",
       "      <td>1</td>\n",
       "      <td>2019</td>\n",
       "      <td>GEOLOGIA</td>\n",
       "    </tr>\n",
       "    <tr>\n",
       "      <th>4941</th>\n",
       "      <td>1</td>\n",
       "      <td>1</td>\n",
       "      <td>2019</td>\n",
       "      <td>GEOLOGIA</td>\n",
       "    </tr>\n",
       "    <tr>\n",
       "      <th>4964</th>\n",
       "      <td>2</td>\n",
       "      <td>1</td>\n",
       "      <td>2019</td>\n",
       "      <td>GEOLOGIA</td>\n",
       "    </tr>\n",
       "  </tbody>\n",
       "</table>\n",
       "</div>"
      ],
      "text/plain": [
       "      TP_SEXO  IN_INGRESSO_TOTAL  NU_ANO_INGRESSO  NO_CURSO\n",
       "4906        2                  1             2019  GEOLOGIA\n",
       "4920        1                  1             2019  GEOLOGIA\n",
       "4922        2                  1             2019  GEOLOGIA\n",
       "4941        1                  1             2019  GEOLOGIA\n",
       "4964        2                  1             2019  GEOLOGIA"
      ]
     },
     "execution_count": 22,
     "metadata": {},
     "output_type": "execute_result"
    }
   ],
   "source": [
    "exatas_df.head()"
   ]
  },
  {
   "cell_type": "code",
   "execution_count": 23,
   "id": "native-berkeley",
   "metadata": {},
   "outputs": [
    {
     "data": {
      "text/plain": [
       "137576"
      ]
     },
     "execution_count": 23,
     "metadata": {},
     "output_type": "execute_result"
    }
   ],
   "source": [
    "len(exatas_df)"
   ]
  },
  {
   "cell_type": "code",
   "execution_count": 24,
   "id": "joined-triumph",
   "metadata": {},
   "outputs": [
    {
     "name": "stderr",
     "output_type": "stream",
     "text": [
      "C:\\Users\\livia\\Anaconda3\\lib\\site-packages\\ipykernel_launcher.py:3: SettingWithCopyWarning: \n",
      "A value is trying to be set on a copy of a slice from a DataFrame.\n",
      "Try using .loc[row_indexer,col_indexer] = value instead\n",
      "\n",
      "See the caveats in the documentation: https://pandas.pydata.org/pandas-docs/stable/user_guide/indexing.html#returning-a-view-versus-a-copy\n",
      "  This is separate from the ipykernel package so we can avoid doing imports until\n",
      "C:\\Users\\livia\\Anaconda3\\lib\\site-packages\\ipykernel_launcher.py:4: SettingWithCopyWarning: \n",
      "A value is trying to be set on a copy of a slice from a DataFrame.\n",
      "Try using .loc[row_indexer,col_indexer] = value instead\n",
      "\n",
      "See the caveats in the documentation: https://pandas.pydata.org/pandas-docs/stable/user_guide/indexing.html#returning-a-view-versus-a-copy\n",
      "  after removing the cwd from sys.path.\n"
     ]
    }
   ],
   "source": [
    "n_homens_exatas,n_mulheres_exatas = replace_and_separate_dfs(exatas_df)"
   ]
  },
  {
   "cell_type": "code",
   "execution_count": null,
   "id": "acting-rogers",
   "metadata": {},
   "outputs": [],
   "source": []
  },
  {
   "cell_type": "code",
   "execution_count": 25,
   "id": "valuable-meaning",
   "metadata": {},
   "outputs": [
    {
     "data": {
      "text/html": [
       "<div>\n",
       "<style scoped>\n",
       "    .dataframe tbody tr th:only-of-type {\n",
       "        vertical-align: middle;\n",
       "    }\n",
       "\n",
       "    .dataframe tbody tr th {\n",
       "        vertical-align: top;\n",
       "    }\n",
       "\n",
       "    .dataframe thead th {\n",
       "        text-align: right;\n",
       "    }\n",
       "</style>\n",
       "<table border=\"1\" class=\"dataframe\">\n",
       "  <thead>\n",
       "    <tr style=\"text-align: right;\">\n",
       "      <th></th>\n",
       "      <th>TP_SEXO</th>\n",
       "      <th>IN_INGRESSO_TOTAL</th>\n",
       "      <th>NU_ANO_INGRESSO</th>\n",
       "      <th>NO_CURSO</th>\n",
       "    </tr>\n",
       "  </thead>\n",
       "  <tbody>\n",
       "    <tr>\n",
       "      <th>4906</th>\n",
       "      <td>Homens</td>\n",
       "      <td>1</td>\n",
       "      <td>2019</td>\n",
       "      <td>GEOLOGIA</td>\n",
       "    </tr>\n",
       "    <tr>\n",
       "      <th>4920</th>\n",
       "      <td>Mulheres</td>\n",
       "      <td>1</td>\n",
       "      <td>2019</td>\n",
       "      <td>GEOLOGIA</td>\n",
       "    </tr>\n",
       "    <tr>\n",
       "      <th>4922</th>\n",
       "      <td>Homens</td>\n",
       "      <td>1</td>\n",
       "      <td>2019</td>\n",
       "      <td>GEOLOGIA</td>\n",
       "    </tr>\n",
       "    <tr>\n",
       "      <th>4941</th>\n",
       "      <td>Mulheres</td>\n",
       "      <td>1</td>\n",
       "      <td>2019</td>\n",
       "      <td>GEOLOGIA</td>\n",
       "    </tr>\n",
       "    <tr>\n",
       "      <th>4964</th>\n",
       "      <td>Homens</td>\n",
       "      <td>1</td>\n",
       "      <td>2019</td>\n",
       "      <td>GEOLOGIA</td>\n",
       "    </tr>\n",
       "  </tbody>\n",
       "</table>\n",
       "</div>"
      ],
      "text/plain": [
       "       TP_SEXO  IN_INGRESSO_TOTAL  NU_ANO_INGRESSO  NO_CURSO\n",
       "4906    Homens                  1             2019  GEOLOGIA\n",
       "4920  Mulheres                  1             2019  GEOLOGIA\n",
       "4922    Homens                  1             2019  GEOLOGIA\n",
       "4941  Mulheres                  1             2019  GEOLOGIA\n",
       "4964    Homens                  1             2019  GEOLOGIA"
      ]
     },
     "execution_count": 25,
     "metadata": {},
     "output_type": "execute_result"
    }
   ],
   "source": [
    "exatas_df.head()"
   ]
  },
  {
   "cell_type": "code",
   "execution_count": 26,
   "id": "loose-diversity",
   "metadata": {},
   "outputs": [
    {
     "data": {
      "image/png": "[encoded data removed]",
      "text/plain": [
       "<Figure size 576x576 with 1 Axes>"
      ]
     },
     "metadata": {},
     "output_type": "display_data"
    }
   ],
   "source": [
    "create_piechart(n_homens_exatas,n_mulheres_exatas,\"Exatas\")"
   ]
  },
  {
   "cell_type": "markdown",
   "id": "diverse-sharing",
   "metadata": {},
   "source": [
    "# Analisando cursos de engenharia:"
   ]
  },
  {
   "cell_type": "code",
   "execution_count": 27,
   "id": "informational-commonwealth",
   "metadata": {},
   "outputs": [],
   "source": [
    "engenharias_df = result[result.NO_CURSO.str.contains('ENGENHARIA',case=False)]"
   ]
  },
  {
   "cell_type": "code",
   "execution_count": 28,
   "id": "central-preservation",
   "metadata": {},
   "outputs": [
    {
     "data": {
      "text/html": [
       "<div>\n",
       "<style scoped>\n",
       "    .dataframe tbody tr th:only-of-type {\n",
       "        vertical-align: middle;\n",
       "    }\n",
       "\n",
       "    .dataframe tbody tr th {\n",
       "        vertical-align: top;\n",
       "    }\n",
       "\n",
       "    .dataframe thead th {\n",
       "        text-align: right;\n",
       "    }\n",
       "</style>\n",
       "<table border=\"1\" class=\"dataframe\">\n",
       "  <thead>\n",
       "    <tr style=\"text-align: right;\">\n",
       "      <th></th>\n",
       "      <th>TP_SEXO</th>\n",
       "      <th>IN_INGRESSO_TOTAL</th>\n",
       "      <th>NU_ANO_INGRESSO</th>\n",
       "      <th>NO_CURSO</th>\n",
       "    </tr>\n",
       "  </thead>\n",
       "  <tbody>\n",
       "    <tr>\n",
       "      <th>1093</th>\n",
       "      <td>2</td>\n",
       "      <td>1</td>\n",
       "      <td>2019</td>\n",
       "      <td>ENGENHARIA CIVIL</td>\n",
       "    </tr>\n",
       "    <tr>\n",
       "      <th>1115</th>\n",
       "      <td>2</td>\n",
       "      <td>1</td>\n",
       "      <td>2019</td>\n",
       "      <td>ENGENHARIA CIVIL</td>\n",
       "    </tr>\n",
       "    <tr>\n",
       "      <th>1134</th>\n",
       "      <td>2</td>\n",
       "      <td>1</td>\n",
       "      <td>2019</td>\n",
       "      <td>ENGENHARIA CIVIL</td>\n",
       "    </tr>\n",
       "    <tr>\n",
       "      <th>1168</th>\n",
       "      <td>2</td>\n",
       "      <td>1</td>\n",
       "      <td>2019</td>\n",
       "      <td>ENGENHARIA CIVIL</td>\n",
       "    </tr>\n",
       "    <tr>\n",
       "      <th>1290</th>\n",
       "      <td>2</td>\n",
       "      <td>1</td>\n",
       "      <td>2019</td>\n",
       "      <td>ENGENHARIA CIVIL</td>\n",
       "    </tr>\n",
       "  </tbody>\n",
       "</table>\n",
       "</div>"
      ],
      "text/plain": [
       "      TP_SEXO  IN_INGRESSO_TOTAL  NU_ANO_INGRESSO          NO_CURSO\n",
       "1093        2                  1             2019  ENGENHARIA CIVIL\n",
       "1115        2                  1             2019  ENGENHARIA CIVIL\n",
       "1134        2                  1             2019  ENGENHARIA CIVIL\n",
       "1168        2                  1             2019  ENGENHARIA CIVIL\n",
       "1290        2                  1             2019  ENGENHARIA CIVIL"
      ]
     },
     "execution_count": 28,
     "metadata": {},
     "output_type": "execute_result"
    }
   ],
   "source": [
    "engenharias_df.head()"
   ]
  },
  {
   "cell_type": "code",
   "execution_count": 29,
   "id": "cheap-international",
   "metadata": {},
   "outputs": [
    {
     "name": "stderr",
     "output_type": "stream",
     "text": [
      "C:\\Users\\livia\\Anaconda3\\lib\\site-packages\\ipykernel_launcher.py:3: SettingWithCopyWarning: \n",
      "A value is trying to be set on a copy of a slice from a DataFrame.\n",
      "Try using .loc[row_indexer,col_indexer] = value instead\n",
      "\n",
      "See the caveats in the documentation: https://pandas.pydata.org/pandas-docs/stable/user_guide/indexing.html#returning-a-view-versus-a-copy\n",
      "  This is separate from the ipykernel package so we can avoid doing imports until\n",
      "C:\\Users\\livia\\Anaconda3\\lib\\site-packages\\ipykernel_launcher.py:4: SettingWithCopyWarning: \n",
      "A value is trying to be set on a copy of a slice from a DataFrame.\n",
      "Try using .loc[row_indexer,col_indexer] = value instead\n",
      "\n",
      "See the caveats in the documentation: https://pandas.pydata.org/pandas-docs/stable/user_guide/indexing.html#returning-a-view-versus-a-copy\n",
      "  after removing the cwd from sys.path.\n"
     ]
    }
   ],
   "source": [
    "n_homens_engenharias,n_mulheres_engenharias = replace_and_separate_dfs(engenharias_df)"
   ]
  },
  {
   "cell_type": "code",
   "execution_count": 30,
   "id": "killing-mediterranean",
   "metadata": {},
   "outputs": [
    {
     "data": {
      "text/html": [
       "<div>\n",
       "<style scoped>\n",
       "    .dataframe tbody tr th:only-of-type {\n",
       "        vertical-align: middle;\n",
       "    }\n",
       "\n",
       "    .dataframe tbody tr th {\n",
       "        vertical-align: top;\n",
       "    }\n",
       "\n",
       "    .dataframe thead th {\n",
       "        text-align: right;\n",
       "    }\n",
       "</style>\n",
       "<table border=\"1\" class=\"dataframe\">\n",
       "  <thead>\n",
       "    <tr style=\"text-align: right;\">\n",
       "      <th></th>\n",
       "      <th>TP_SEXO</th>\n",
       "      <th>IN_INGRESSO_TOTAL</th>\n",
       "      <th>NU_ANO_INGRESSO</th>\n",
       "      <th>NO_CURSO</th>\n",
       "    </tr>\n",
       "  </thead>\n",
       "  <tbody>\n",
       "    <tr>\n",
       "      <th>1093</th>\n",
       "      <td>Homens</td>\n",
       "      <td>1</td>\n",
       "      <td>2019</td>\n",
       "      <td>ENGENHARIA CIVIL</td>\n",
       "    </tr>\n",
       "    <tr>\n",
       "      <th>1115</th>\n",
       "      <td>Homens</td>\n",
       "      <td>1</td>\n",
       "      <td>2019</td>\n",
       "      <td>ENGENHARIA CIVIL</td>\n",
       "    </tr>\n",
       "    <tr>\n",
       "      <th>1134</th>\n",
       "      <td>Homens</td>\n",
       "      <td>1</td>\n",
       "      <td>2019</td>\n",
       "      <td>ENGENHARIA CIVIL</td>\n",
       "    </tr>\n",
       "    <tr>\n",
       "      <th>1168</th>\n",
       "      <td>Homens</td>\n",
       "      <td>1</td>\n",
       "      <td>2019</td>\n",
       "      <td>ENGENHARIA CIVIL</td>\n",
       "    </tr>\n",
       "    <tr>\n",
       "      <th>1290</th>\n",
       "      <td>Homens</td>\n",
       "      <td>1</td>\n",
       "      <td>2019</td>\n",
       "      <td>ENGENHARIA CIVIL</td>\n",
       "    </tr>\n",
       "  </tbody>\n",
       "</table>\n",
       "</div>"
      ],
      "text/plain": [
       "     TP_SEXO  IN_INGRESSO_TOTAL  NU_ANO_INGRESSO          NO_CURSO\n",
       "1093  Homens                  1             2019  ENGENHARIA CIVIL\n",
       "1115  Homens                  1             2019  ENGENHARIA CIVIL\n",
       "1134  Homens                  1             2019  ENGENHARIA CIVIL\n",
       "1168  Homens                  1             2019  ENGENHARIA CIVIL\n",
       "1290  Homens                  1             2019  ENGENHARIA CIVIL"
      ]
     },
     "execution_count": 30,
     "metadata": {},
     "output_type": "execute_result"
    }
   ],
   "source": [
    "engenharias_df.head()"
   ]
  },
  {
   "cell_type": "code",
   "execution_count": 31,
   "id": "occupied-istanbul",
   "metadata": {},
   "outputs": [
    {
     "data": {
      "image/png": "[encoded data removed]",
      "text/plain": [
       "<Figure size 576x576 with 1 Axes>"
      ]
     },
     "metadata": {},
     "output_type": "display_data"
    }
   ],
   "source": [
    "create_piechart(n_homens_engenharias,n_mulheres_engenharias,\"Engenharias\")"
   ]
  },
  {
   "cell_type": "markdown",
   "id": "contemporary-workstation",
   "metadata": {},
   "source": [
    "# Comparando as três areas : "
   ]
  },
  {
   "cell_type": "code",
   "execution_count": 32,
   "id": "exceptional-hotel",
   "metadata": {},
   "outputs": [],
   "source": [
    "import seaborn as sns"
   ]
  },
  {
   "cell_type": "code",
   "execution_count": 33,
   "id": "authentic-bahamas",
   "metadata": {},
   "outputs": [
    {
     "name": "stderr",
     "output_type": "stream",
     "text": [
      "C:\\Users\\livia\\Anaconda3\\lib\\site-packages\\pandas\\core\\indexing.py:1720: SettingWithCopyWarning: \n",
      "A value is trying to be set on a copy of a slice from a DataFrame.\n",
      "Try using .loc[row_indexer,col_indexer] = value instead\n",
      "\n",
      "See the caveats in the documentation: https://pandas.pydata.org/pandas-docs/stable/user_guide/indexing.html#returning-a-view-versus-a-copy\n",
      "  self._setitem_single_column(loc, value, pi)\n"
     ]
    }
   ],
   "source": [
    "computacao_df.loc[(computacao_df.NO_CURSO.str.contains('COMPUTA��O',case=False)),'NO_CURSO']='Computacao'"
   ]
  },
  {
   "cell_type": "code",
   "execution_count": 34,
   "id": "accompanied-generation",
   "metadata": {},
   "outputs": [
    {
     "data": {
      "text/html": [
       "<div>\n",
       "<style scoped>\n",
       "    .dataframe tbody tr th:only-of-type {\n",
       "        vertical-align: middle;\n",
       "    }\n",
       "\n",
       "    .dataframe tbody tr th {\n",
       "        vertical-align: top;\n",
       "    }\n",
       "\n",
       "    .dataframe thead th {\n",
       "        text-align: right;\n",
       "    }\n",
       "</style>\n",
       "<table border=\"1\" class=\"dataframe\">\n",
       "  <thead>\n",
       "    <tr style=\"text-align: right;\">\n",
       "      <th></th>\n",
       "      <th>TP_SEXO</th>\n",
       "      <th>IN_INGRESSO_TOTAL</th>\n",
       "      <th>NU_ANO_INGRESSO</th>\n",
       "      <th>NO_CURSO</th>\n",
       "    </tr>\n",
       "  </thead>\n",
       "  <tbody>\n",
       "    <tr>\n",
       "      <th>9045</th>\n",
       "      <td>Homens</td>\n",
       "      <td>1</td>\n",
       "      <td>2019</td>\n",
       "      <td>Computacao</td>\n",
       "    </tr>\n",
       "    <tr>\n",
       "      <th>9066</th>\n",
       "      <td>Mulheres</td>\n",
       "      <td>1</td>\n",
       "      <td>2019</td>\n",
       "      <td>Computacao</td>\n",
       "    </tr>\n",
       "    <tr>\n",
       "      <th>9069</th>\n",
       "      <td>Homens</td>\n",
       "      <td>1</td>\n",
       "      <td>2019</td>\n",
       "      <td>Computacao</td>\n",
       "    </tr>\n",
       "    <tr>\n",
       "      <th>9091</th>\n",
       "      <td>Homens</td>\n",
       "      <td>1</td>\n",
       "      <td>2019</td>\n",
       "      <td>Computacao</td>\n",
       "    </tr>\n",
       "    <tr>\n",
       "      <th>9099</th>\n",
       "      <td>Homens</td>\n",
       "      <td>1</td>\n",
       "      <td>2019</td>\n",
       "      <td>Computacao</td>\n",
       "    </tr>\n",
       "  </tbody>\n",
       "</table>\n",
       "</div>"
      ],
      "text/plain": [
       "       TP_SEXO  IN_INGRESSO_TOTAL  NU_ANO_INGRESSO    NO_CURSO\n",
       "9045    Homens                  1             2019  Computacao\n",
       "9066  Mulheres                  1             2019  Computacao\n",
       "9069    Homens                  1             2019  Computacao\n",
       "9091    Homens                  1             2019  Computacao\n",
       "9099    Homens                  1             2019  Computacao"
      ]
     },
     "execution_count": 34,
     "metadata": {},
     "output_type": "execute_result"
    }
   ],
   "source": [
    "computacao_df.head()"
   ]
  },
  {
   "cell_type": "code",
   "execution_count": 35,
   "id": "becoming-perception",
   "metadata": {},
   "outputs": [
    {
     "name": "stderr",
     "output_type": "stream",
     "text": [
      "C:\\Users\\livia\\Anaconda3\\lib\\site-packages\\pandas\\core\\indexing.py:1720: SettingWithCopyWarning: \n",
      "A value is trying to be set on a copy of a slice from a DataFrame.\n",
      "Try using .loc[row_indexer,col_indexer] = value instead\n",
      "\n",
      "See the caveats in the documentation: https://pandas.pydata.org/pandas-docs/stable/user_guide/indexing.html#returning-a-view-versus-a-copy\n",
      "  self._setitem_single_column(loc, value, pi)\n"
     ]
    }
   ],
   "source": [
    "engenharias_df.loc[(engenharias_df.NO_CURSO.str.contains('ENGENHARIA',case=False)),'NO_CURSO']='Engenharias'"
   ]
  },
  {
   "cell_type": "code",
   "execution_count": 36,
   "id": "sporting-validation",
   "metadata": {},
   "outputs": [
    {
     "data": {
      "text/html": [
       "<div>\n",
       "<style scoped>\n",
       "    .dataframe tbody tr th:only-of-type {\n",
       "        vertical-align: middle;\n",
       "    }\n",
       "\n",
       "    .dataframe tbody tr th {\n",
       "        vertical-align: top;\n",
       "    }\n",
       "\n",
       "    .dataframe thead th {\n",
       "        text-align: right;\n",
       "    }\n",
       "</style>\n",
       "<table border=\"1\" class=\"dataframe\">\n",
       "  <thead>\n",
       "    <tr style=\"text-align: right;\">\n",
       "      <th></th>\n",
       "      <th>TP_SEXO</th>\n",
       "      <th>IN_INGRESSO_TOTAL</th>\n",
       "      <th>NU_ANO_INGRESSO</th>\n",
       "      <th>NO_CURSO</th>\n",
       "    </tr>\n",
       "  </thead>\n",
       "  <tbody>\n",
       "    <tr>\n",
       "      <th>1093</th>\n",
       "      <td>Homens</td>\n",
       "      <td>1</td>\n",
       "      <td>2019</td>\n",
       "      <td>Engenharias</td>\n",
       "    </tr>\n",
       "    <tr>\n",
       "      <th>1115</th>\n",
       "      <td>Homens</td>\n",
       "      <td>1</td>\n",
       "      <td>2019</td>\n",
       "      <td>Engenharias</td>\n",
       "    </tr>\n",
       "    <tr>\n",
       "      <th>1134</th>\n",
       "      <td>Homens</td>\n",
       "      <td>1</td>\n",
       "      <td>2019</td>\n",
       "      <td>Engenharias</td>\n",
       "    </tr>\n",
       "    <tr>\n",
       "      <th>1168</th>\n",
       "      <td>Homens</td>\n",
       "      <td>1</td>\n",
       "      <td>2019</td>\n",
       "      <td>Engenharias</td>\n",
       "    </tr>\n",
       "    <tr>\n",
       "      <th>1290</th>\n",
       "      <td>Homens</td>\n",
       "      <td>1</td>\n",
       "      <td>2019</td>\n",
       "      <td>Engenharias</td>\n",
       "    </tr>\n",
       "  </tbody>\n",
       "</table>\n",
       "</div>"
      ],
      "text/plain": [
       "     TP_SEXO  IN_INGRESSO_TOTAL  NU_ANO_INGRESSO     NO_CURSO\n",
       "1093  Homens                  1             2019  Engenharias\n",
       "1115  Homens                  1             2019  Engenharias\n",
       "1134  Homens                  1             2019  Engenharias\n",
       "1168  Homens                  1             2019  Engenharias\n",
       "1290  Homens                  1             2019  Engenharias"
      ]
     },
     "execution_count": 36,
     "metadata": {},
     "output_type": "execute_result"
    }
   ],
   "source": [
    "engenharias_df.head()"
   ]
  },
  {
   "cell_type": "code",
   "execution_count": 37,
   "id": "stretch-senate",
   "metadata": {},
   "outputs": [
    {
     "name": "stderr",
     "output_type": "stream",
     "text": [
      "C:\\Users\\livia\\Anaconda3\\lib\\site-packages\\pandas\\core\\indexing.py:1720: SettingWithCopyWarning: \n",
      "A value is trying to be set on a copy of a slice from a DataFrame.\n",
      "Try using .loc[row_indexer,col_indexer] = value instead\n",
      "\n",
      "See the caveats in the documentation: https://pandas.pydata.org/pandas-docs/stable/user_guide/indexing.html#returning-a-view-versus-a-copy\n",
      "  self._setitem_single_column(loc, value, pi)\n"
     ]
    }
   ],
   "source": [
    "exatas_df.loc[(exatas_df['NO_CURSO'].isin(lista_exatas) | exatas_df.NO_CURSO.str.contains('EXATAS',case=False)),'NO_CURSO']='Exatas'"
   ]
  },
  {
   "cell_type": "code",
   "execution_count": 38,
   "id": "closed-implementation",
   "metadata": {},
   "outputs": [
    {
     "data": {
      "text/html": [
       "<div>\n",
       "<style scoped>\n",
       "    .dataframe tbody tr th:only-of-type {\n",
       "        vertical-align: middle;\n",
       "    }\n",
       "\n",
       "    .dataframe tbody tr th {\n",
       "        vertical-align: top;\n",
       "    }\n",
       "\n",
       "    .dataframe thead th {\n",
       "        text-align: right;\n",
       "    }\n",
       "</style>\n",
       "<table border=\"1\" class=\"dataframe\">\n",
       "  <thead>\n",
       "    <tr style=\"text-align: right;\">\n",
       "      <th></th>\n",
       "      <th>TP_SEXO</th>\n",
       "      <th>IN_INGRESSO_TOTAL</th>\n",
       "      <th>NU_ANO_INGRESSO</th>\n",
       "      <th>NO_CURSO</th>\n",
       "    </tr>\n",
       "  </thead>\n",
       "  <tbody>\n",
       "    <tr>\n",
       "      <th>4906</th>\n",
       "      <td>Homens</td>\n",
       "      <td>1</td>\n",
       "      <td>2019</td>\n",
       "      <td>Exatas</td>\n",
       "    </tr>\n",
       "    <tr>\n",
       "      <th>4920</th>\n",
       "      <td>Mulheres</td>\n",
       "      <td>1</td>\n",
       "      <td>2019</td>\n",
       "      <td>Exatas</td>\n",
       "    </tr>\n",
       "    <tr>\n",
       "      <th>4922</th>\n",
       "      <td>Homens</td>\n",
       "      <td>1</td>\n",
       "      <td>2019</td>\n",
       "      <td>Exatas</td>\n",
       "    </tr>\n",
       "    <tr>\n",
       "      <th>4941</th>\n",
       "      <td>Mulheres</td>\n",
       "      <td>1</td>\n",
       "      <td>2019</td>\n",
       "      <td>Exatas</td>\n",
       "    </tr>\n",
       "    <tr>\n",
       "      <th>4964</th>\n",
       "      <td>Homens</td>\n",
       "      <td>1</td>\n",
       "      <td>2019</td>\n",
       "      <td>Exatas</td>\n",
       "    </tr>\n",
       "  </tbody>\n",
       "</table>\n",
       "</div>"
      ],
      "text/plain": [
       "       TP_SEXO  IN_INGRESSO_TOTAL  NU_ANO_INGRESSO NO_CURSO\n",
       "4906    Homens                  1             2019   Exatas\n",
       "4920  Mulheres                  1             2019   Exatas\n",
       "4922    Homens                  1             2019   Exatas\n",
       "4941  Mulheres                  1             2019   Exatas\n",
       "4964    Homens                  1             2019   Exatas"
      ]
     },
     "execution_count": 38,
     "metadata": {},
     "output_type": "execute_result"
    }
   ],
   "source": [
    "exatas_df.head()"
   ]
  },
  {
   "cell_type": "code",
   "execution_count": 39,
   "id": "honey-utility",
   "metadata": {},
   "outputs": [],
   "source": [
    "frames = [computacao_df, engenharias_df, exatas_df]"
   ]
  },
  {
   "cell_type": "code",
   "execution_count": 40,
   "id": "parallel-mailing",
   "metadata": {},
   "outputs": [],
   "source": [
    "df1 = pd.concat(frames)"
   ]
  },
  {
   "cell_type": "code",
   "execution_count": 41,
   "id": "historic-requirement",
   "metadata": {},
   "outputs": [],
   "source": [
    "df_1 = df1.rename(columns={'TP_SEXO': '','NO_CURSO':'Curso'})"
   ]
  },
  {
   "cell_type": "code",
   "execution_count": 42,
   "id": "together-cedar",
   "metadata": {},
   "outputs": [
    {
     "data": {
      "image/png": "[encoded data removed]",
      "text/plain": [
       "<Figure size 432x288 with 1 Axes>"
      ]
     },
     "metadata": {
      "needs_background": "light"
     },
     "output_type": "display_data"
    }
   ],
   "source": [
    "ax = sns.countplot(x=\"Curso\", hue=\"\", data=df_1)"
   ]
  },
  {
   "cell_type": "markdown",
   "id": "wooden-argument",
   "metadata": {},
   "source": [
    "## Analisando a parcela de alunos concluintes: IN_CONCLUINTES = 1\n",
    "* \"O MEC entende como concluintes aqueles alunos que já cursaram 80% ou mais da carga horária do curso, no caso das licenciaturas e bacharelados, e 75% ou mais no caso dos cursos superiores de tecnologia.\""
   ]
  },
  {
   "cell_type": "code",
   "execution_count": 43,
   "id": "equipped-culture",
   "metadata": {},
   "outputs": [],
   "source": [
    "df_alunos = pd.read_csv('SUP_ALUNO_2019.CSV',sep = \"|\", usecols= ['TP_SEXO','CO_CURSO','IN_INGRESSO_TOTAL','IN_CONCLUINTE'])"
   ]
  },
  {
   "cell_type": "code",
   "execution_count": 44,
   "id": "significant-token",
   "metadata": {},
   "outputs": [],
   "source": [
    "df_ingressantes_concluintes = df_alunos[df_alunos['IN_CONCLUINTE'] == 1]"
   ]
  },
  {
   "cell_type": "code",
   "execution_count": 45,
   "id": "suitable-edwards",
   "metadata": {},
   "outputs": [
    {
     "data": {
      "text/html": [
       "<div>\n",
       "<style scoped>\n",
       "    .dataframe tbody tr th:only-of-type {\n",
       "        vertical-align: middle;\n",
       "    }\n",
       "\n",
       "    .dataframe tbody tr th {\n",
       "        vertical-align: top;\n",
       "    }\n",
       "\n",
       "    .dataframe thead th {\n",
       "        text-align: right;\n",
       "    }\n",
       "</style>\n",
       "<table border=\"1\" class=\"dataframe\">\n",
       "  <thead>\n",
       "    <tr style=\"text-align: right;\">\n",
       "      <th></th>\n",
       "      <th>CO_CURSO</th>\n",
       "      <th>TP_SEXO</th>\n",
       "      <th>IN_CONCLUINTE</th>\n",
       "      <th>IN_INGRESSO_TOTAL</th>\n",
       "    </tr>\n",
       "  </thead>\n",
       "  <tbody>\n",
       "    <tr>\n",
       "      <th>12350745</th>\n",
       "      <td>1487256</td>\n",
       "      <td>2</td>\n",
       "      <td>1</td>\n",
       "      <td>0</td>\n",
       "    </tr>\n",
       "    <tr>\n",
       "      <th>12350746</th>\n",
       "      <td>1487256</td>\n",
       "      <td>1</td>\n",
       "      <td>1</td>\n",
       "      <td>0</td>\n",
       "    </tr>\n",
       "    <tr>\n",
       "      <th>12350747</th>\n",
       "      <td>1487256</td>\n",
       "      <td>1</td>\n",
       "      <td>1</td>\n",
       "      <td>0</td>\n",
       "    </tr>\n",
       "    <tr>\n",
       "      <th>12350748</th>\n",
       "      <td>1487256</td>\n",
       "      <td>2</td>\n",
       "      <td>1</td>\n",
       "      <td>0</td>\n",
       "    </tr>\n",
       "    <tr>\n",
       "      <th>12350749</th>\n",
       "      <td>1487256</td>\n",
       "      <td>2</td>\n",
       "      <td>1</td>\n",
       "      <td>0</td>\n",
       "    </tr>\n",
       "  </tbody>\n",
       "</table>\n",
       "</div>"
      ],
      "text/plain": [
       "          CO_CURSO  TP_SEXO  IN_CONCLUINTE  IN_INGRESSO_TOTAL\n",
       "12350745   1487256        2              1                  0\n",
       "12350746   1487256        1              1                  0\n",
       "12350747   1487256        1              1                  0\n",
       "12350748   1487256        2              1                  0\n",
       "12350749   1487256        2              1                  0"
      ]
     },
     "execution_count": 45,
     "metadata": {},
     "output_type": "execute_result"
    }
   ],
   "source": [
    "df_ingressantes_concluintes.tail()"
   ]
  },
  {
   "cell_type": "markdown",
   "id": "floating-payday",
   "metadata": {},
   "source": [
    "  "
   ]
  },
  {
   "cell_type": "code",
   "execution_count": 252,
   "id": "entitled-wales",
   "metadata": {},
   "outputs": [
    {
     "data": {
      "text/plain": [
       "1250239"
      ]
     },
     "execution_count": 252,
     "metadata": {},
     "output_type": "execute_result"
    }
   ],
   "source": [
    "len(df_ingressantes_concluintes)"
   ]
  },
  {
   "cell_type": "code",
   "execution_count": 242,
   "id": "global-bishop",
   "metadata": {},
   "outputs": [],
   "source": [
    "result = pd.merge(df_ingressantes_concluintes,df_bycourse,on='CO_CURSO')"
   ]
  },
  {
   "cell_type": "code",
   "execution_count": 243,
   "id": "collective-familiar",
   "metadata": {},
   "outputs": [
    {
     "data": {
      "text/html": [
       "<div>\n",
       "<style scoped>\n",
       "    .dataframe tbody tr th:only-of-type {\n",
       "        vertical-align: middle;\n",
       "    }\n",
       "\n",
       "    .dataframe tbody tr th {\n",
       "        vertical-align: top;\n",
       "    }\n",
       "\n",
       "    .dataframe thead th {\n",
       "        text-align: right;\n",
       "    }\n",
       "</style>\n",
       "<table border=\"1\" class=\"dataframe\">\n",
       "  <thead>\n",
       "    <tr style=\"text-align: right;\">\n",
       "      <th></th>\n",
       "      <th>CO_CURSO</th>\n",
       "      <th>TP_SEXO</th>\n",
       "      <th>IN_CONCLUINTE</th>\n",
       "      <th>IN_INGRESSO_TOTAL</th>\n",
       "      <th>NO_CURSO</th>\n",
       "    </tr>\n",
       "  </thead>\n",
       "  <tbody>\n",
       "    <tr>\n",
       "      <th>0</th>\n",
       "      <td>1</td>\n",
       "      <td>2</td>\n",
       "      <td>1</td>\n",
       "      <td>1</td>\n",
       "      <td>DIREITO</td>\n",
       "    </tr>\n",
       "    <tr>\n",
       "      <th>1</th>\n",
       "      <td>6</td>\n",
       "      <td>1</td>\n",
       "      <td>1</td>\n",
       "      <td>1</td>\n",
       "      <td>PEDAGOGIA</td>\n",
       "    </tr>\n",
       "    <tr>\n",
       "      <th>2</th>\n",
       "      <td>6</td>\n",
       "      <td>1</td>\n",
       "      <td>1</td>\n",
       "      <td>1</td>\n",
       "      <td>PEDAGOGIA</td>\n",
       "    </tr>\n",
       "    <tr>\n",
       "      <th>3</th>\n",
       "      <td>29</td>\n",
       "      <td>1</td>\n",
       "      <td>1</td>\n",
       "      <td>1</td>\n",
       "      <td>CI�NCIAS BIOL�GICAS</td>\n",
       "    </tr>\n",
       "    <tr>\n",
       "      <th>4</th>\n",
       "      <td>101184</td>\n",
       "      <td>1</td>\n",
       "      <td>1</td>\n",
       "      <td>1</td>\n",
       "      <td>F�SICA</td>\n",
       "    </tr>\n",
       "  </tbody>\n",
       "</table>\n",
       "</div>"
      ],
      "text/plain": [
       "   CO_CURSO  TP_SEXO  IN_CONCLUINTE  IN_INGRESSO_TOTAL             NO_CURSO\n",
       "0         1        2              1                  1              DIREITO\n",
       "1         6        1              1                  1            PEDAGOGIA\n",
       "2         6        1              1                  1            PEDAGOGIA\n",
       "3        29        1              1                  1  CI�NCIAS BIOL�GICAS\n",
       "4    101184        1              1                  1               F�SICA"
      ]
     },
     "execution_count": 243,
     "metadata": {},
     "output_type": "execute_result"
    }
   ],
   "source": [
    "result.head()"
   ]
  },
  {
   "cell_type": "code",
   "execution_count": 244,
   "id": "dominant-vatican",
   "metadata": {},
   "outputs": [],
   "source": [
    "result = result.drop(['CO_CURSO'], axis=1)"
   ]
  },
  {
   "cell_type": "code",
   "execution_count": 245,
   "id": "contemporary-remedy",
   "metadata": {},
   "outputs": [],
   "source": [
    "computacao_df = result[result.NO_CURSO.str.contains('COMPUTA��O',case=False)]"
   ]
  },
  {
   "cell_type": "code",
   "execution_count": 246,
   "id": "separate-pressing",
   "metadata": {},
   "outputs": [
    {
     "name": "stderr",
     "output_type": "stream",
     "text": [
      "C:\\Users\\livia\\Anaconda3\\lib\\site-packages\\ipykernel_launcher.py:3: SettingWithCopyWarning: \n",
      "A value is trying to be set on a copy of a slice from a DataFrame.\n",
      "Try using .loc[row_indexer,col_indexer] = value instead\n",
      "\n",
      "See the caveats in the documentation: https://pandas.pydata.org/pandas-docs/stable/user_guide/indexing.html#returning-a-view-versus-a-copy\n",
      "  This is separate from the ipykernel package so we can avoid doing imports until\n",
      "C:\\Users\\livia\\Anaconda3\\lib\\site-packages\\ipykernel_launcher.py:4: SettingWithCopyWarning: \n",
      "A value is trying to be set on a copy of a slice from a DataFrame.\n",
      "Try using .loc[row_indexer,col_indexer] = value instead\n",
      "\n",
      "See the caveats in the documentation: https://pandas.pydata.org/pandas-docs/stable/user_guide/indexing.html#returning-a-view-versus-a-copy\n",
      "  after removing the cwd from sys.path.\n"
     ]
    }
   ],
   "source": [
    "n_homens_comp,n_mulheres_comp = replace_and_separate_dfs(computacao_df)"
   ]
  },
  {
   "cell_type": "code",
   "execution_count": 247,
   "id": "relative-tissue",
   "metadata": {},
   "outputs": [
    {
     "data": {
      "text/html": [
       "<div>\n",
       "<style scoped>\n",
       "    .dataframe tbody tr th:only-of-type {\n",
       "        vertical-align: middle;\n",
       "    }\n",
       "\n",
       "    .dataframe tbody tr th {\n",
       "        vertical-align: top;\n",
       "    }\n",
       "\n",
       "    .dataframe thead th {\n",
       "        text-align: right;\n",
       "    }\n",
       "</style>\n",
       "<table border=\"1\" class=\"dataframe\">\n",
       "  <thead>\n",
       "    <tr style=\"text-align: right;\">\n",
       "      <th></th>\n",
       "      <th>TP_SEXO</th>\n",
       "      <th>IN_CONCLUINTE</th>\n",
       "      <th>IN_INGRESSO_TOTAL</th>\n",
       "      <th>NO_CURSO</th>\n",
       "    </tr>\n",
       "  </thead>\n",
       "  <tbody>\n",
       "    <tr>\n",
       "      <th>575</th>\n",
       "      <td>Homens</td>\n",
       "      <td>1</td>\n",
       "      <td>1</td>\n",
       "      <td>CI�NCIA DA COMPUTA��O</td>\n",
       "    </tr>\n",
       "    <tr>\n",
       "      <th>617</th>\n",
       "      <td>Homens</td>\n",
       "      <td>1</td>\n",
       "      <td>1</td>\n",
       "      <td>ENGENHARIA DE COMPUTA��O</td>\n",
       "    </tr>\n",
       "    <tr>\n",
       "      <th>618</th>\n",
       "      <td>Mulheres</td>\n",
       "      <td>1</td>\n",
       "      <td>1</td>\n",
       "      <td>ENGENHARIA DE COMPUTA��O</td>\n",
       "    </tr>\n",
       "    <tr>\n",
       "      <th>619</th>\n",
       "      <td>Homens</td>\n",
       "      <td>1</td>\n",
       "      <td>1</td>\n",
       "      <td>CI�NCIA DA COMPUTA��O</td>\n",
       "    </tr>\n",
       "    <tr>\n",
       "      <th>620</th>\n",
       "      <td>Homens</td>\n",
       "      <td>1</td>\n",
       "      <td>1</td>\n",
       "      <td>CI�NCIA DA COMPUTA��O</td>\n",
       "    </tr>\n",
       "  </tbody>\n",
       "</table>\n",
       "</div>"
      ],
      "text/plain": [
       "      TP_SEXO  IN_CONCLUINTE  IN_INGRESSO_TOTAL                  NO_CURSO\n",
       "575    Homens              1                  1     CI�NCIA DA COMPUTA��O\n",
       "617    Homens              1                  1  ENGENHARIA DE COMPUTA��O\n",
       "618  Mulheres              1                  1  ENGENHARIA DE COMPUTA��O\n",
       "619    Homens              1                  1     CI�NCIA DA COMPUTA��O\n",
       "620    Homens              1                  1     CI�NCIA DA COMPUTA��O"
      ]
     },
     "execution_count": 247,
     "metadata": {},
     "output_type": "execute_result"
    }
   ],
   "source": [
    "computacao_df.head()"
   ]
  },
  {
   "cell_type": "code",
   "execution_count": 150,
   "id": "conventional-palestinian",
   "metadata": {},
   "outputs": [],
   "source": []
  },
  {
   "cell_type": "code",
   "execution_count": 248,
   "id": "social-minnesota",
   "metadata": {},
   "outputs": [
    {
     "data": {
      "image/png": "[encoded data removed]",
      "text/plain": [
       "<Figure size 576x576 with 1 Axes>"
      ]
     },
     "metadata": {},
     "output_type": "display_data"
    }
   ],
   "source": [
    "create_piechart(n_homens_comp,n_mulheres_comp,\"Engenharia e Ciência da Computação - Concluintes\")"
   ]
  },
  {
   "cell_type": "code",
   "execution_count": 233,
   "id": "express-tumor",
   "metadata": {},
   "outputs": [],
   "source": [
    "exatas_df = result[result['NO_CURSO'].isin(lista_exatas) | result.NO_CURSO.str.contains('EXATAS',case=False)]"
   ]
  },
  {
   "cell_type": "code",
   "execution_count": 234,
   "id": "approximate-minneapolis",
   "metadata": {},
   "outputs": [
    {
     "name": "stderr",
     "output_type": "stream",
     "text": [
      "C:\\Users\\livia\\Anaconda3\\lib\\site-packages\\ipykernel_launcher.py:3: SettingWithCopyWarning: \n",
      "A value is trying to be set on a copy of a slice from a DataFrame.\n",
      "Try using .loc[row_indexer,col_indexer] = value instead\n",
      "\n",
      "See the caveats in the documentation: https://pandas.pydata.org/pandas-docs/stable/user_guide/indexing.html#returning-a-view-versus-a-copy\n",
      "  This is separate from the ipykernel package so we can avoid doing imports until\n",
      "C:\\Users\\livia\\Anaconda3\\lib\\site-packages\\ipykernel_launcher.py:4: SettingWithCopyWarning: \n",
      "A value is trying to be set on a copy of a slice from a DataFrame.\n",
      "Try using .loc[row_indexer,col_indexer] = value instead\n",
      "\n",
      "See the caveats in the documentation: https://pandas.pydata.org/pandas-docs/stable/user_guide/indexing.html#returning-a-view-versus-a-copy\n",
      "  after removing the cwd from sys.path.\n"
     ]
    }
   ],
   "source": [
    "n_homens_exatas,n_mulheres_exatas = replace_and_separate_dfs(exatas_df)"
   ]
  },
  {
   "cell_type": "code",
   "execution_count": 235,
   "id": "peripheral-champagne",
   "metadata": {},
   "outputs": [
    {
     "data": {
      "image/png": "[encoded data removed]",
      "text/plain": [
       "<Figure size 576x576 with 1 Axes>"
      ]
     },
     "metadata": {},
     "output_type": "display_data"
    }
   ],
   "source": [
    "create_piechart(n_homens_exatas,n_mulheres_exatas,\"Exatas\")"
   ]
  },
  {
   "cell_type": "code",
   "execution_count": 238,
   "id": "proper-beads",
   "metadata": {},
   "outputs": [
    {
     "data": {
      "text/plain": [
       "1038"
      ]
     },
     "execution_count": 238,
     "metadata": {},
     "output_type": "execute_result"
    }
   ],
   "source": [
    "len(exatas_df)"
   ]
  },
  {
   "cell_type": "code",
   "execution_count": null,
   "id": "tired-appraisal",
   "metadata": {},
   "outputs": [],
   "source": []
  }
 ],
 "metadata": {
  "kernelspec": {
   "display_name": "Python 3",
   "language": "python",
   "name": "python3"
  },
  "language_info": {
   "codemirror_mode": {
    "name": "ipython",
    "version": 3
   },
   "file_extension": ".py",
   "mimetype": "text/x-python",
   "name": "python",
   "nbconvert_exporter": "python",
   "pygments_lexer": "ipython3",
   "version": "3.7.0"
  }
 },
 "nbformat": 4,
 "nbformat_minor": 5
}
